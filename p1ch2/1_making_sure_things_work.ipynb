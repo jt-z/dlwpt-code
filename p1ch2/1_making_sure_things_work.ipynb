{
 "cells": [
  {
   "cell_type": "code",
   "execution_count": 16,
   "metadata": {},
   "outputs": [
    {
     "name": "stdout",
     "output_type": "stream",
     "text": [
      "Mon Oct  4 00:07:57 2021       \n",
      "+-----------------------------------------------------------------------------+\n",
      "| NVIDIA-SMI 470.57.02    Driver Version: 470.57.02    CUDA Version: 11.4     |\n",
      "|-------------------------------+----------------------+----------------------+\n",
      "| GPU  Name        Persistence-M| Bus-Id        Disp.A | Volatile Uncorr. ECC |\n",
      "| Fan  Temp  Perf  Pwr:Usage/Cap|         Memory-Usage | GPU-Util  Compute M. |\n",
      "|                               |                      |               MIG M. |\n",
      "|===============================+======================+======================|\n",
      "|   0  Quadro RTX 8000     Off  | 00000000:3B:00.0 Off |                  Off |\n",
      "| 64%   82C    P2   260W / 260W |  45482MiB / 48601MiB |    100%      Default |\n",
      "|                               |                      |                  N/A |\n",
      "+-------------------------------+----------------------+----------------------+\n",
      "|   1  Quadro RTX 8000     Off  | 00000000:86:00.0 Off |                  Off |\n",
      "| 64%   82C    P2   158W / 260W |  16462MiB / 48601MiB |     99%      Default |\n",
      "|                               |                      |                  N/A |\n",
      "+-------------------------------+----------------------+----------------------+\n",
      "                                                                               \n",
      "+-----------------------------------------------------------------------------+\n",
      "| Processes:                                                                  |\n",
      "|  GPU   GI   CI        PID   Type   Process name                  GPU Memory |\n",
      "|        ID   ID                                                   Usage      |\n",
      "|=============================================================================|\n",
      "|    0   N/A  N/A    282805      G   /usr/lib/xorg/Xorg                 20MiB |\n",
      "|    0   N/A  N/A   3289475      C   ...vs/torch1.8/bin/python3.7    21227MiB |\n",
      "|    0   N/A  N/A   3444087      C   .../envs/torch1.8/bin/python     2713MiB |\n",
      "|    0   N/A  N/A   3536716      C   python                          20809MiB |\n",
      "|    0   N/A  N/A   3572198      C   .../envs/torch1.8/bin/python      707MiB |\n",
      "|    1   N/A  N/A    282805      G   /usr/lib/xorg/Xorg                  4MiB |\n",
      "|    1   N/A  N/A   3399151      C   /usr/bin/python3.8               2837MiB |\n",
      "|    1   N/A  N/A   3546280      C   ...3/envs/pytorch/bin/python    14301MiB |\n",
      "+-----------------------------------------------------------------------------+\n",
      "stu010   3573753  0.0  0.0  15684  3408 pts/8    Ss+  00:07   0:00 /usr/bin/zsh -c ps aux|grep 3327753\n",
      "stu010   3573755  0.0  0.0  13904  2408 pts/8    S+   00:07   0:00 grep 3327753\n",
      "zsh:kill:1: kill 3327753 failed: 没有那个进程\n"
     ]
    }
   ],
   "source": [
    "import torch\n",
    "!nvidia-smi\n",
    "!ps aux|grep 3327753  \n"
   ]
  },
  {
   "cell_type": "code",
   "execution_count": 2,
   "metadata": {},
   "outputs": [
    {
     "data": {
      "text/plain": [
       "'1.9.0'"
      ]
     },
     "execution_count": 2,
     "metadata": {},
     "output_type": "execute_result"
    }
   ],
   "source": [
    "torch.version.__version__"
   ]
  },
  {
   "cell_type": "code",
   "execution_count": 3,
   "metadata": {},
   "outputs": [],
   "source": [
    "a = torch.ones(3,3)"
   ]
  },
  {
   "cell_type": "code",
   "execution_count": 4,
   "metadata": {},
   "outputs": [],
   "source": [
    "b = torch.ones(3,3)"
   ]
  },
  {
   "cell_type": "code",
   "execution_count": 5,
   "metadata": {},
   "outputs": [
    {
     "data": {
      "text/plain": [
       "tensor([[2., 2., 2.],\n",
       "        [2., 2., 2.],\n",
       "        [2., 2., 2.]])"
      ]
     },
     "execution_count": 5,
     "metadata": {},
     "output_type": "execute_result"
    }
   ],
   "source": [
    "a + b"
   ]
  },
  {
   "cell_type": "code",
   "execution_count": 17,
   "metadata": {},
   "outputs": [
    {
     "data": {
      "text/plain": [
       "tensor([[2., 2., 2.],\n",
       "        [2., 2., 2.],\n",
       "        [2., 2., 2.]], device='cuda:0')"
      ]
     },
     "execution_count": 17,
     "metadata": {},
     "output_type": "execute_result"
    }
   ],
   "source": [
    "a = a.to('cuda')\n",
    "b = b.to('cuda')\n",
    "a + b"
   ]
  },
  {
   "cell_type": "code",
   "execution_count": null,
   "metadata": {},
   "outputs": [],
   "source": []
  }
 ],
 "metadata": {
  "kernelspec": {
   "display_name": "Python 3",
   "language": "python",
   "name": "python3"
  },
  "language_info": {
   "codemirror_mode": {
    "name": "ipython",
    "version": 3
   },
   "file_extension": ".py",
   "mimetype": "text/x-python",
   "name": "python",
   "nbconvert_exporter": "python",
   "pygments_lexer": "ipython3",
   "version": "3.8.8"
  }
 },
 "nbformat": 4,
 "nbformat_minor": 2
}
